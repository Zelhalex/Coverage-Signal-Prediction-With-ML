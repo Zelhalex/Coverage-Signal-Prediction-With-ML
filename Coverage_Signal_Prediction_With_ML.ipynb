{
 "cells": [
  {
   "cell_type": "code",
   "execution_count": null,
   "metadata": {
    "id": "V5vx682Y3h_U"
   },
   "outputs": [],
   "source": [
    "import pandas as pd\n",
    "from sklearn.model_selection import train_test_split, cross_val_score, GridSearchCV\n",
    "from sklearn.ensemble import RandomForestRegressor\n",
    "from sklearn.metrics import mean_squared_error, mean_absolute_error, r2_score\n",
    "import matplotlib.pyplot as plt\n",
    "import numpy as np\n",
    "import math\n",
    "\n",
    "df = pd.read_csv(\"/content/'File_Name'.csv\") #Ex:Data_4G.csv\n",
    "\n",
    "# Select the desired features\n",
    "selected_features = [\"Distance Between Tx and Rx\\n(m)\", 'Frequency', 'Altitude', 'Tinggi Antena', 'Elevation Angle', 'Azimuth offset angle',\n",
    "                     \"Horizontal Distance of Rx from Boresight of Tx\", \"Vertical Distance of Rx from Boresight of Tx\",\n",
    "                      ]\n",
    "#This is just an example of the features I suggest. You can use feature importance to identify the most relevant features. Some features, however, \n",
    "#are essential.\n",
    "X_selected = df[selected_features]\n",
    "y = df['Signal Level']\n",
    "\n",
    "X_train, X_test, y_train, y_test = train_test_split(X_selected, y, test_size=0.25, random_state=42)\n",
    "\n",
    "# Train the model using the subset of selected features\n",
    "model_selected = RandomForestRegressor(random_state=42)\n",
    "model_selected.fit(X_train, y_train)\n",
    "\n",
    "# Prediction for X_train dan X_test\n",
    "model_predictions_train = model_selected.predict(X_train)\n",
    "model_predictions_test = model_selected.predict(X_test)\n",
    "\n",
    "# Ensure that predictions cover all data\n",
    "all_model_predictions = np.concatenate((model_predictions_train, model_predictions_test))"
   ]
  },
  {
   "cell_type": "code",
   "execution_count": null,
   "metadata": {
    "id": "bagYORVG3szB"
   },
   "outputs": [],
   "source": [
    "# Conversion and calculation for Okumura-Hata model are adjusted\n",
    "c = 3e8\n",
    "frequency_MHz = 2100 # You can adjust the frequency, but it must remain single and constant, EX:2300.\n",
    "distance_m = df[\"Distance Between Tx and Rx\\n(m)\"]\n",
    "height_transmitter_m = df[\"Tinggi Antena\"] #Tinggi Antena = Antenna height\n",
    "transmit_daya = 43  # Transmitter power in dBm\n",
    "gain_antena_tx = 10  # Antenna gain in dB\n",
    "#\"The transmitter power and antenna gain used here are based on standard values commonly applied in this region. Feel free to \n",
    "#adjust these values to match the typical standards in your area.\"\n",
    "\n",
    "# Path Loss Calculations\n",
    "fspl_dB = 20 * np.log10((4 * np.pi * distance_m * frequency_MHz) / c)\n",
    "ahre = (1.1 * np.log10(frequency_MHz) - 0.7) * 1 - (1.56 * np.log10(frequency_MHz) - 0.8) \n",
    "# 1 here represents the receiver's height, for example, holding a phone at an average height of 1 meter.\n",
    "pathloss_okumura = 69.55 + 26.16 * np.log10(frequency_MHz) - 13.82 * np.log10(height_transmitter_m) - ahre + (44.9 - 6.55 * np.log10(height_transmitter_m)) * np.log10(distance_m /1000)\n",
    "level_sinyal_okumura = transmit_daya - pathloss_okumura + gain_antena_tx + fspl_dB\n",
    "\n",
    "frequency_MHz_cost231 = 2100  # Assuming frequency column is in MHz\n",
    "Cm = 0  # Urban area correction factor\n",
    "fspl_dB = 20 * np.log10((4 * np.pi * distance_m * frequency_MHz_cost231) / c)\n",
    "ahre_cost231 = (1.1 * np.log10(frequency_MHz) - 0.7) * 1 - (1.56 * np.log10(frequency_MHz) - 0.8) \n",
    "# 1 here represents the receiver's height, for example, holding a phone at an average height of 1 meter.\n",
    "pathloss_cost_231 = 46.3 + 33.9 * np.log10(frequency_MHz_cost231) - 13.82 * np.log10(df[\"Tinggi Antena\"]) + (44.9 - 6.55 * np.log10(df[\"Tinggi Antena\"])) * np.log10(df[\"Distance Between Tx and Rx\\n(m)\"]/1000) - ahre_cost231 + Cm\n",
    "\n",
    "# Assuming transmit power and antenna gain are in dBm and dB respectively\n",
    "level_signal_cost231 = transmit_daya - pathloss_cost_231 + gain_antena_tx + fspl_dB\n",
    "\n",
    "# Define the parameters\n",
    "fc = 2.1  # Carrier frequency in GHz\n",
    "d = df[\"Distance Between Tx and Rx\\n(m)\"]  # Distance in meters\n",
    "h_UT = 0.8  # Height of the user terminal in meters\n",
    "P_tx = 43  # Transmit power in dBm (example value)\n",
    "G_tx = 10  # Transmit antenna gain in dB (example value)\n",
    "G_rx = 0   # Receive antenna gain in dB (example value)\n",
    "\n",
    "# Calculate the LOS path loss\n",
    "def path_loss_los(fc, d):\n",
    "    PL_LOS = 28.0 + 22 * np.log10(d) + 20 * np.log10(fc)\n",
    "    return PL_LOS\n",
    "\n",
    "# Calculate the NLOS path loss\n",
    "def path_loss_nlos(fc, d, eta):\n",
    "    PL_NLOS = 36.7 * np.log10(d) + 22.7 + 26 * np.log10(fc) + eta\n",
    "    return PL_NLOS\n",
    "#For LOS and NLOS path loss, this was only a choice either you only want NLOS or use the two of them for comparison later\n",
    "\n",
    "# Compute shadowing component separately\n",
    "eta = np.random.normal(0, 3, len(df))\n",
    "\n",
    "# Add the shadowing component to the DataFrame\n",
    "df['Shadowing (eta)'] = eta\n",
    "\n",
    "# Compute the path loss for each row in the DataFrame\n",
    "df['Path Loss LOS (dB)'] = df.apply(lambda row: path_loss_los(fc, row['Distance Between Tx and Rx\\n(m)']), axis=1)\n",
    "df['Path Loss NLOS (dB)'] = df.apply(lambda row: path_loss_nlos(fc, row['Distance Between Tx and Rx\\n(m)'], row['Tinggi Antena']), axis=1)\n",
    "\n",
    "# Compute the signal level for LOS and NLOS conditions\n",
    "df['Signal Level LOS (dBm)'] = df.apply(lambda row: P_tx + G_tx + G_rx - row['Path Loss LOS (dB)'], axis=1)\n",
    "df['Signal Level NLOS (dBm)'] = df.apply(lambda row: P_tx + G_tx + G_rx - row['Path Loss NLOS (dB)'], axis=1)"
   ]
  },
  {
   "cell_type": "code",
   "execution_count": null,
   "metadata": {
    "id": "cPxjmqjz80AO"
   },
   "outputs": [],
   "source": [
    "# Making a dataframe\n",
    "df1 = pd.DataFrame({\n",
    "    'Distance (m)': distance_m,\n",
    "    'Random Forest Prediction': np.concatenate((model_predictions_train, model_predictions_test)),\n",
    "    'Okumura Hata': level_sinyal_okumura,\n",
    "    'Dataset': df['Signal Level'].tolist(),\n",
    "    'COST 231': level_signal_cost231,\n",
    "    '3GPP LOS' : df['Signal Level LOS (dBm)'],\n",
    "    '3GPP NLOS' : df['Signal Level NLOS (dBm)'],\n",
    "    })\n",
    "df_sorted = df1.sort_values(by='Distance (m)')"
   ]
  },
  {
   "cell_type": "code",
   "execution_count": null,
   "metadata": {
    "id": "X7ETYNvv9B3B"
   },
   "outputs": [],
   "source": [
    "# Update the plotting section\n",
    "plt.figure(figsize=(10, 6))\n",
    "plt.plot(df_sorted['Distance (m)'], df_sorted['Dataset'], color='blue', label='Actual', alpha=0.5)\n",
    "plt.plot(df_sorted['Distance (m)'], df_sorted['Random Forest Prediction'], color='red', label='Machine Learning Predicted', alpha=0.5)\n",
    "plt.plot(df_sorted['Distance (m)'], df_sorted['Okumura Hata'], color='green', label='Okumura-Hata Predicted', alpha=0.5)\n",
    "plt.plot(df_sorted['Distance (m)'], df_sorted['COST 231'], color='purple', label='COST 231 Predicted', alpha=0.5)\n",
    "\n",
    "plt.xlabel('Distance Between Tx and Rx (m)')\n",
    "plt.ylabel('Signal Level')\n",
    "plt.title('Actual vs Predicted Signal Level')\n",
    "plt.legend()\n",
    "plt.show()"
   ]
  },
  {
   "cell_type": "code",
   "execution_count": null,
   "metadata": {
    "id": "qvVhhRnJ9IH2"
   },
   "outputs": [],
   "source": [
    "# First, let's define a function to calculate the moving average:\n",
    "def moving_average(data, window_size):\n",
    "    return data.rolling(window=window_size, min_periods=1).mean()\n",
    "\n",
    "# Now, apply the moving average function to each prediction column:\n",
    "window_size = 10  # You can adjust the window size based on your needs\n",
    "\n",
    "# Calculate moving averages\n",
    "df_sorted['Random Forest Prediction MA'] = moving_average(df_sorted['Random Forest Prediction'], window_size)\n",
    "df_sorted['Okumura Hata MA'] = moving_average(df_sorted['Okumura Hata'], window_size)\n",
    "df_sorted['COST 231 MA'] = moving_average(df_sorted['COST 231'], window_size)\n",
    "df_sorted['Dataset MA'] = moving_average(df_sorted['Dataset'], window_size)\n",
    "df_sorted['3GPP LOS MA'] = moving_average(df_sorted['3GPP LOS'], window_size)\n",
    "df_sorted['3GPP NLOS MA'] = moving_average(df_sorted['3GPP NLOS'], window_size)"
   ]
  },
  {
   "cell_type": "code",
   "execution_count": null,
   "metadata": {
    "id": "PpfVNMUL9S3O"
   },
   "outputs": [],
   "source": [
    "# Plot the comparison graph with moving averages\n",
    "plt.figure(figsize=(10, 6))\n",
    "\n",
    "# Plot Random Forest Prediction Moving Average\n",
    "plt.plot(df_sorted['Distance (m)'], df_sorted['Random Forest Prediction MA'], label='Random Forest Prediction MA', color='blue', alpha=0.5)\n",
    "\n",
    "# Plot Gradient Boosting Prediction Moving Average\n",
    "plt.plot(df_sorted['Distance (m)'], df_sorted['Okumura Hata MA'], label='Okumura Hata MA', color='orange', alpha=0.5)\n",
    "\n",
    "# Plot Decision Tree Prediction Moving Average\n",
    "plt.plot(df_sorted['Distance (m)'], df_sorted['COST 231 MA'], label='COST 231 MA', color='green', alpha=0.5)\n",
    "\n",
    "# Plot Actual Dataset Moving Average\n",
    "plt.plot(df_sorted['Distance (m)'], df_sorted['Dataset MA'], label='Dataset MA', color='black', alpha=0.5)\n",
    "\n",
    "#Plot 3GPP NLOS Moving Average\n",
    "plt.plot(df_sorted['Distance (m)'], df_sorted['3GPP NLOS MA'], label='3GPP NLOS MA', color='red', alpha=0.5)\n",
    "\n",
    "# Label x and y axes and title\n",
    "plt.xlabel('Distance (m)')\n",
    "plt.ylabel('Signal Level (dBm)')\n",
    "plt.title('Comparison of Signal Level Predictions (Smoothed)')\n",
    "\n",
    "# Add legend\n",
    "plt.legend()\n",
    "\n",
    "# Show grid\n",
    "plt.grid(True)\n",
    "\n",
    "# Show plot\n",
    "plt.show()"
   ]
  }
 ],
 "metadata": {
  "colab": {
   "provenance": []
  },
  "kernelspec": {
   "display_name": "Python 3",
   "name": "python3"
  },
  "language_info": {
   "name": "python"
  }
 },
 "nbformat": 4,
 "nbformat_minor": 0
}
